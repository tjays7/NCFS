{
 "cells": [
  {
   "cell_type": "markdown",
   "metadata": {},
   "source": [
    "# Applying NCFS on Colon_Cancer Dataset"
   ]
  },
  {
   "cell_type": "code",
   "execution_count": 1,
   "metadata": {},
   "outputs": [
    {
     "name": "stdout",
     "output_type": "stream",
     "text": [
      "importing Jupyter notebook from NCFS.ipynb\n"
     ]
    }
   ],
   "source": [
    "import pandas as pd\n",
    "import numpy as np\n",
    "import os\n",
    "from sklearn import preprocessing\n",
    "import matplotlib.pyplot as plt\n",
    "%matplotlib inline\n",
    "\n",
    "import import_ipynb\n",
    "import NCFS"
   ]
  },
  {
   "cell_type": "code",
   "execution_count": 4,
   "metadata": {
    "scrolled": true
   },
   "outputs": [
    {
     "data": {
      "text/html": [
       "<div>\n",
       "<style scoped>\n",
       "    .dataframe tbody tr th:only-of-type {\n",
       "        vertical-align: middle;\n",
       "    }\n",
       "\n",
       "    .dataframe tbody tr th {\n",
       "        vertical-align: top;\n",
       "    }\n",
       "\n",
       "    .dataframe thead th {\n",
       "        text-align: right;\n",
       "    }\n",
       "</style>\n",
       "<table border=\"1\" class=\"dataframe\">\n",
       "  <thead>\n",
       "    <tr style=\"text-align: right;\">\n",
       "      <th></th>\n",
       "      <th>Unnamed: 0</th>\n",
       "      <th>H55933</th>\n",
       "      <th>R39465</th>\n",
       "      <th>R39465_</th>\n",
       "      <th>R85482</th>\n",
       "      <th>U14973</th>\n",
       "      <th>R02593</th>\n",
       "      <th>T51496</th>\n",
       "      <th>H80240</th>\n",
       "      <th>T65938</th>\n",
       "      <th>...</th>\n",
       "      <th>R70790</th>\n",
       "      <th>L11706</th>\n",
       "      <th>T90549</th>\n",
       "      <th>D17390</th>\n",
       "      <th>M33210</th>\n",
       "      <th>H18490</th>\n",
       "      <th>H40891</th>\n",
       "      <th>R77780</th>\n",
       "      <th>T49647</th>\n",
       "      <th>Class</th>\n",
       "    </tr>\n",
       "  </thead>\n",
       "  <tbody>\n",
       "    <tr>\n",
       "      <th>0</th>\n",
       "      <td>1</td>\n",
       "      <td>8589.4160</td>\n",
       "      <td>5468.2407</td>\n",
       "      <td>4263.4077</td>\n",
       "      <td>4064.9358</td>\n",
       "      <td>1997.8930</td>\n",
       "      <td>5282.3250</td>\n",
       "      <td>2169.7200</td>\n",
       "      <td>2773.4211</td>\n",
       "      <td>7526.3860</td>\n",
       "      <td>...</td>\n",
       "      <td>67.56125</td>\n",
       "      <td>259.91250</td>\n",
       "      <td>138.89874</td>\n",
       "      <td>88.23250</td>\n",
       "      <td>39.66786</td>\n",
       "      <td>67.82875</td>\n",
       "      <td>75.67750</td>\n",
       "      <td>83.52250</td>\n",
       "      <td>28.70125</td>\n",
       "      <td>Abnormal</td>\n",
       "    </tr>\n",
       "    <tr>\n",
       "      <th>1</th>\n",
       "      <td>2</td>\n",
       "      <td>9164.2540</td>\n",
       "      <td>6719.5293</td>\n",
       "      <td>4883.4487</td>\n",
       "      <td>3718.1590</td>\n",
       "      <td>2015.2214</td>\n",
       "      <td>5569.9070</td>\n",
       "      <td>3849.0588</td>\n",
       "      <td>2793.3875</td>\n",
       "      <td>7017.7340</td>\n",
       "      <td>...</td>\n",
       "      <td>92.23875</td>\n",
       "      <td>96.27625</td>\n",
       "      <td>150.59000</td>\n",
       "      <td>82.23750</td>\n",
       "      <td>85.03333</td>\n",
       "      <td>152.19500</td>\n",
       "      <td>186.56750</td>\n",
       "      <td>44.47250</td>\n",
       "      <td>16.77375</td>\n",
       "      <td>Normal</td>\n",
       "    </tr>\n",
       "    <tr>\n",
       "      <th>2</th>\n",
       "      <td>3</td>\n",
       "      <td>3825.7050</td>\n",
       "      <td>6970.3613</td>\n",
       "      <td>5369.9688</td>\n",
       "      <td>4705.6500</td>\n",
       "      <td>1166.5536</td>\n",
       "      <td>1572.1678</td>\n",
       "      <td>1325.4025</td>\n",
       "      <td>1472.2587</td>\n",
       "      <td>3296.9512</td>\n",
       "      <td>...</td>\n",
       "      <td>82.71500</td>\n",
       "      <td>31.10250</td>\n",
       "      <td>193.92000</td>\n",
       "      <td>76.97250</td>\n",
       "      <td>224.62024</td>\n",
       "      <td>31.22500</td>\n",
       "      <td>42.65625</td>\n",
       "      <td>16.09250</td>\n",
       "      <td>15.15625</td>\n",
       "      <td>Abnormal</td>\n",
       "    </tr>\n",
       "    <tr>\n",
       "      <th>3</th>\n",
       "      <td>4</td>\n",
       "      <td>6246.4487</td>\n",
       "      <td>7823.5340</td>\n",
       "      <td>5955.8350</td>\n",
       "      <td>3975.5642</td>\n",
       "      <td>2002.6132</td>\n",
       "      <td>2130.5430</td>\n",
       "      <td>1531.1425</td>\n",
       "      <td>1714.6312</td>\n",
       "      <td>3869.7850</td>\n",
       "      <td>...</td>\n",
       "      <td>41.68375</td>\n",
       "      <td>5.92500</td>\n",
       "      <td>183.00626</td>\n",
       "      <td>74.52875</td>\n",
       "      <td>67.71072</td>\n",
       "      <td>48.33875</td>\n",
       "      <td>42.52000</td>\n",
       "      <td>49.98250</td>\n",
       "      <td>16.08500</td>\n",
       "      <td>Normal</td>\n",
       "    </tr>\n",
       "    <tr>\n",
       "      <th>4</th>\n",
       "      <td>5</td>\n",
       "      <td>3230.3286</td>\n",
       "      <td>3694.4500</td>\n",
       "      <td>3400.7400</td>\n",
       "      <td>3463.5857</td>\n",
       "      <td>2181.4202</td>\n",
       "      <td>2922.7820</td>\n",
       "      <td>2069.2463</td>\n",
       "      <td>2948.5750</td>\n",
       "      <td>3303.3710</td>\n",
       "      <td>...</td>\n",
       "      <td>76.60375</td>\n",
       "      <td>161.35000</td>\n",
       "      <td>61.70125</td>\n",
       "      <td>54.56375</td>\n",
       "      <td>223.35953</td>\n",
       "      <td>73.09875</td>\n",
       "      <td>57.59875</td>\n",
       "      <td>7.48875</td>\n",
       "      <td>31.81250</td>\n",
       "      <td>Abnormal</td>\n",
       "    </tr>\n",
       "  </tbody>\n",
       "</table>\n",
       "<p>5 rows × 2002 columns</p>\n",
       "</div>"
      ],
      "text/plain": [
       "   Unnamed: 0     H55933     R39465    R39465_     R85482     U14973  \\\n",
       "0           1  8589.4160  5468.2407  4263.4077  4064.9358  1997.8930   \n",
       "1           2  9164.2540  6719.5293  4883.4487  3718.1590  2015.2214   \n",
       "2           3  3825.7050  6970.3613  5369.9688  4705.6500  1166.5536   \n",
       "3           4  6246.4487  7823.5340  5955.8350  3975.5642  2002.6132   \n",
       "4           5  3230.3286  3694.4500  3400.7400  3463.5857  2181.4202   \n",
       "\n",
       "      R02593     T51496     H80240     T65938  ...    R70790     L11706  \\\n",
       "0  5282.3250  2169.7200  2773.4211  7526.3860  ...  67.56125  259.91250   \n",
       "1  5569.9070  3849.0588  2793.3875  7017.7340  ...  92.23875   96.27625   \n",
       "2  1572.1678  1325.4025  1472.2587  3296.9512  ...  82.71500   31.10250   \n",
       "3  2130.5430  1531.1425  1714.6312  3869.7850  ...  41.68375    5.92500   \n",
       "4  2922.7820  2069.2463  2948.5750  3303.3710  ...  76.60375  161.35000   \n",
       "\n",
       "      T90549    D17390     M33210     H18490     H40891    R77780    T49647  \\\n",
       "0  138.89874  88.23250   39.66786   67.82875   75.67750  83.52250  28.70125   \n",
       "1  150.59000  82.23750   85.03333  152.19500  186.56750  44.47250  16.77375   \n",
       "2  193.92000  76.97250  224.62024   31.22500   42.65625  16.09250  15.15625   \n",
       "3  183.00626  74.52875   67.71072   48.33875   42.52000  49.98250  16.08500   \n",
       "4   61.70125  54.56375  223.35953   73.09875   57.59875   7.48875  31.81250   \n",
       "\n",
       "      Class  \n",
       "0  Abnormal  \n",
       "1    Normal  \n",
       "2  Abnormal  \n",
       "3    Normal  \n",
       "4  Abnormal  \n",
       "\n",
       "[5 rows x 2002 columns]"
      ]
     },
     "execution_count": 4,
     "metadata": {},
     "output_type": "execute_result"
    }
   ],
   "source": [
    "# Reading dataset into dataframe\n",
    "path = os.path.abspath('colon - labled.csv')\n",
    "dataset = pd.read_csv(path) \n",
    "dataset.head()"
   ]
  },
  {
   "cell_type": "markdown",
   "metadata": {},
   "source": [
    "# Data Preprocessing"
   ]
  },
  {
   "cell_type": "code",
   "execution_count": 3,
   "metadata": {},
   "outputs": [
    {
     "data": {
      "text/plain": [
       "(62, 2000)"
      ]
     },
     "execution_count": 3,
     "metadata": {},
     "output_type": "execute_result"
    }
   ],
   "source": [
    "df_features = dataset.drop([\"Unnamed: 0\",\"Class\"],axis=1)\n",
    "df_features.shape"
   ]
  },
  {
   "cell_type": "code",
   "execution_count": 4,
   "metadata": {},
   "outputs": [
    {
     "data": {
      "text/html": [
       "<div>\n",
       "<style scoped>\n",
       "    .dataframe tbody tr th:only-of-type {\n",
       "        vertical-align: middle;\n",
       "    }\n",
       "\n",
       "    .dataframe tbody tr th {\n",
       "        vertical-align: top;\n",
       "    }\n",
       "\n",
       "    .dataframe thead th {\n",
       "        text-align: right;\n",
       "    }\n",
       "</style>\n",
       "<table border=\"1\" class=\"dataframe\">\n",
       "  <thead>\n",
       "    <tr style=\"text-align: right;\">\n",
       "      <th></th>\n",
       "      <th>Class</th>\n",
       "    </tr>\n",
       "  </thead>\n",
       "  <tbody>\n",
       "    <tr>\n",
       "      <th>0</th>\n",
       "      <td>Abnormal</td>\n",
       "    </tr>\n",
       "    <tr>\n",
       "      <th>1</th>\n",
       "      <td>Normal</td>\n",
       "    </tr>\n",
       "    <tr>\n",
       "      <th>2</th>\n",
       "      <td>Abnormal</td>\n",
       "    </tr>\n",
       "    <tr>\n",
       "      <th>3</th>\n",
       "      <td>Normal</td>\n",
       "    </tr>\n",
       "    <tr>\n",
       "      <th>4</th>\n",
       "      <td>Abnormal</td>\n",
       "    </tr>\n",
       "  </tbody>\n",
       "</table>\n",
       "</div>"
      ],
      "text/plain": [
       "      Class\n",
       "0  Abnormal\n",
       "1    Normal\n",
       "2  Abnormal\n",
       "3    Normal\n",
       "4  Abnormal"
      ]
     },
     "execution_count": 4,
     "metadata": {},
     "output_type": "execute_result"
    }
   ],
   "source": [
    "df_labels = pd.DataFrame(dataset[dataset.columns[-1]])\n",
    "df_labels.head()"
   ]
  },
  {
   "cell_type": "code",
   "execution_count": 5,
   "metadata": {},
   "outputs": [
    {
     "data": {
      "text/html": [
       "<div>\n",
       "<style scoped>\n",
       "    .dataframe tbody tr th:only-of-type {\n",
       "        vertical-align: middle;\n",
       "    }\n",
       "\n",
       "    .dataframe tbody tr th {\n",
       "        vertical-align: top;\n",
       "    }\n",
       "\n",
       "    .dataframe thead th {\n",
       "        text-align: right;\n",
       "    }\n",
       "</style>\n",
       "<table border=\"1\" class=\"dataframe\">\n",
       "  <thead>\n",
       "    <tr style=\"text-align: right;\">\n",
       "      <th></th>\n",
       "      <th>Class</th>\n",
       "    </tr>\n",
       "  </thead>\n",
       "  <tbody>\n",
       "    <tr>\n",
       "      <th>57</th>\n",
       "      <td>Abnormal</td>\n",
       "    </tr>\n",
       "    <tr>\n",
       "      <th>58</th>\n",
       "      <td>Abnormal</td>\n",
       "    </tr>\n",
       "    <tr>\n",
       "      <th>59</th>\n",
       "      <td>Normal</td>\n",
       "    </tr>\n",
       "    <tr>\n",
       "      <th>60</th>\n",
       "      <td>Abnormal</td>\n",
       "    </tr>\n",
       "    <tr>\n",
       "      <th>61</th>\n",
       "      <td>Normal</td>\n",
       "    </tr>\n",
       "  </tbody>\n",
       "</table>\n",
       "</div>"
      ],
      "text/plain": [
       "       Class\n",
       "57  Abnormal\n",
       "58  Abnormal\n",
       "59    Normal\n",
       "60  Abnormal\n",
       "61    Normal"
      ]
     },
     "execution_count": 5,
     "metadata": {},
     "output_type": "execute_result"
    }
   ],
   "source": [
    "df_labels.tail()"
   ]
  },
  {
   "cell_type": "code",
   "execution_count": 6,
   "metadata": {},
   "outputs": [
    {
     "data": {
      "text/html": [
       "<div>\n",
       "<style scoped>\n",
       "    .dataframe tbody tr th:only-of-type {\n",
       "        vertical-align: middle;\n",
       "    }\n",
       "\n",
       "    .dataframe tbody tr th {\n",
       "        vertical-align: top;\n",
       "    }\n",
       "\n",
       "    .dataframe thead th {\n",
       "        text-align: right;\n",
       "    }\n",
       "</style>\n",
       "<table border=\"1\" class=\"dataframe\">\n",
       "  <thead>\n",
       "    <tr style=\"text-align: right;\">\n",
       "      <th></th>\n",
       "      <th>Class</th>\n",
       "    </tr>\n",
       "  </thead>\n",
       "  <tbody>\n",
       "    <tr>\n",
       "      <th>0</th>\n",
       "      <td>0</td>\n",
       "    </tr>\n",
       "    <tr>\n",
       "      <th>1</th>\n",
       "      <td>1</td>\n",
       "    </tr>\n",
       "    <tr>\n",
       "      <th>2</th>\n",
       "      <td>0</td>\n",
       "    </tr>\n",
       "    <tr>\n",
       "      <th>3</th>\n",
       "      <td>1</td>\n",
       "    </tr>\n",
       "    <tr>\n",
       "      <th>4</th>\n",
       "      <td>0</td>\n",
       "    </tr>\n",
       "  </tbody>\n",
       "</table>\n",
       "</div>"
      ],
      "text/plain": [
       "   Class\n",
       "0      0\n",
       "1      1\n",
       "2      0\n",
       "3      1\n",
       "4      0"
      ]
     },
     "execution_count": 6,
     "metadata": {},
     "output_type": "execute_result"
    }
   ],
   "source": [
    "le = preprocessing.LabelEncoder()\n",
    "le.fit(df_labels.values.ravel())\n",
    "le.classes_\n",
    "df_labels = pd.DataFrame(data=le.transform(df_labels.values.ravel()),columns=['Class']) \n",
    "df_labels.head()\n"
   ]
  },
  {
   "cell_type": "code",
   "execution_count": 7,
   "metadata": {},
   "outputs": [
    {
     "data": {
      "text/html": [
       "<div>\n",
       "<style scoped>\n",
       "    .dataframe tbody tr th:only-of-type {\n",
       "        vertical-align: middle;\n",
       "    }\n",
       "\n",
       "    .dataframe tbody tr th {\n",
       "        vertical-align: top;\n",
       "    }\n",
       "\n",
       "    .dataframe thead th {\n",
       "        text-align: right;\n",
       "    }\n",
       "</style>\n",
       "<table border=\"1\" class=\"dataframe\">\n",
       "  <thead>\n",
       "    <tr style=\"text-align: right;\">\n",
       "      <th></th>\n",
       "      <th>H55933</th>\n",
       "      <th>R39465</th>\n",
       "      <th>R39465_</th>\n",
       "      <th>R85482</th>\n",
       "      <th>U14973</th>\n",
       "      <th>R02593</th>\n",
       "      <th>T51496</th>\n",
       "      <th>H80240</th>\n",
       "      <th>T65938</th>\n",
       "      <th>T55131</th>\n",
       "      <th>...</th>\n",
       "      <th>X67699</th>\n",
       "      <th>R70790</th>\n",
       "      <th>L11706</th>\n",
       "      <th>T90549</th>\n",
       "      <th>D17390</th>\n",
       "      <th>M33210</th>\n",
       "      <th>H18490</th>\n",
       "      <th>H40891</th>\n",
       "      <th>R77780</th>\n",
       "      <th>T49647</th>\n",
       "    </tr>\n",
       "  </thead>\n",
       "  <tbody>\n",
       "    <tr>\n",
       "      <th>0</th>\n",
       "      <td>8589.4160</td>\n",
       "      <td>5468.2407</td>\n",
       "      <td>4263.4077</td>\n",
       "      <td>4064.9358</td>\n",
       "      <td>1997.8930</td>\n",
       "      <td>5282.3250</td>\n",
       "      <td>2169.7200</td>\n",
       "      <td>2773.4211</td>\n",
       "      <td>7526.3860</td>\n",
       "      <td>4607.6763</td>\n",
       "      <td>...</td>\n",
       "      <td>99.11072</td>\n",
       "      <td>67.56125</td>\n",
       "      <td>259.91250</td>\n",
       "      <td>138.89874</td>\n",
       "      <td>88.23250</td>\n",
       "      <td>39.66786</td>\n",
       "      <td>67.82875</td>\n",
       "      <td>75.67750</td>\n",
       "      <td>83.52250</td>\n",
       "      <td>28.70125</td>\n",
       "    </tr>\n",
       "    <tr>\n",
       "      <th>1</th>\n",
       "      <td>9164.2540</td>\n",
       "      <td>6719.5293</td>\n",
       "      <td>4883.4487</td>\n",
       "      <td>3718.1590</td>\n",
       "      <td>2015.2214</td>\n",
       "      <td>5569.9070</td>\n",
       "      <td>3849.0588</td>\n",
       "      <td>2793.3875</td>\n",
       "      <td>7017.7340</td>\n",
       "      <td>4802.2524</td>\n",
       "      <td>...</td>\n",
       "      <td>126.78929</td>\n",
       "      <td>92.23875</td>\n",
       "      <td>96.27625</td>\n",
       "      <td>150.59000</td>\n",
       "      <td>82.23750</td>\n",
       "      <td>85.03333</td>\n",
       "      <td>152.19500</td>\n",
       "      <td>186.56750</td>\n",
       "      <td>44.47250</td>\n",
       "      <td>16.77375</td>\n",
       "    </tr>\n",
       "    <tr>\n",
       "      <th>2</th>\n",
       "      <td>3825.7050</td>\n",
       "      <td>6970.3613</td>\n",
       "      <td>5369.9688</td>\n",
       "      <td>4705.6500</td>\n",
       "      <td>1166.5536</td>\n",
       "      <td>1572.1678</td>\n",
       "      <td>1325.4025</td>\n",
       "      <td>1472.2587</td>\n",
       "      <td>3296.9512</td>\n",
       "      <td>2786.5820</td>\n",
       "      <td>...</td>\n",
       "      <td>151.87738</td>\n",
       "      <td>82.71500</td>\n",
       "      <td>31.10250</td>\n",
       "      <td>193.92000</td>\n",
       "      <td>76.97250</td>\n",
       "      <td>224.62024</td>\n",
       "      <td>31.22500</td>\n",
       "      <td>42.65625</td>\n",
       "      <td>16.09250</td>\n",
       "      <td>15.15625</td>\n",
       "    </tr>\n",
       "    <tr>\n",
       "      <th>3</th>\n",
       "      <td>6246.4487</td>\n",
       "      <td>7823.5340</td>\n",
       "      <td>5955.8350</td>\n",
       "      <td>3975.5642</td>\n",
       "      <td>2002.6132</td>\n",
       "      <td>2130.5430</td>\n",
       "      <td>1531.1425</td>\n",
       "      <td>1714.6312</td>\n",
       "      <td>3869.7850</td>\n",
       "      <td>4989.4070</td>\n",
       "      <td>...</td>\n",
       "      <td>152.59525</td>\n",
       "      <td>41.68375</td>\n",
       "      <td>5.92500</td>\n",
       "      <td>183.00626</td>\n",
       "      <td>74.52875</td>\n",
       "      <td>67.71072</td>\n",
       "      <td>48.33875</td>\n",
       "      <td>42.52000</td>\n",
       "      <td>49.98250</td>\n",
       "      <td>16.08500</td>\n",
       "    </tr>\n",
       "    <tr>\n",
       "      <th>4</th>\n",
       "      <td>3230.3286</td>\n",
       "      <td>3694.4500</td>\n",
       "      <td>3400.7400</td>\n",
       "      <td>3463.5857</td>\n",
       "      <td>2181.4202</td>\n",
       "      <td>2922.7820</td>\n",
       "      <td>2069.2463</td>\n",
       "      <td>2948.5750</td>\n",
       "      <td>3303.3710</td>\n",
       "      <td>3109.4130</td>\n",
       "      <td>...</td>\n",
       "      <td>126.46429</td>\n",
       "      <td>76.60375</td>\n",
       "      <td>161.35000</td>\n",
       "      <td>61.70125</td>\n",
       "      <td>54.56375</td>\n",
       "      <td>223.35953</td>\n",
       "      <td>73.09875</td>\n",
       "      <td>57.59875</td>\n",
       "      <td>7.48875</td>\n",
       "      <td>31.81250</td>\n",
       "    </tr>\n",
       "  </tbody>\n",
       "</table>\n",
       "<p>5 rows × 2000 columns</p>\n",
       "</div>"
      ],
      "text/plain": [
       "      H55933     R39465    R39465_     R85482     U14973     R02593  \\\n",
       "0  8589.4160  5468.2407  4263.4077  4064.9358  1997.8930  5282.3250   \n",
       "1  9164.2540  6719.5293  4883.4487  3718.1590  2015.2214  5569.9070   \n",
       "2  3825.7050  6970.3613  5369.9688  4705.6500  1166.5536  1572.1678   \n",
       "3  6246.4487  7823.5340  5955.8350  3975.5642  2002.6132  2130.5430   \n",
       "4  3230.3286  3694.4500  3400.7400  3463.5857  2181.4202  2922.7820   \n",
       "\n",
       "      T51496     H80240     T65938     T55131  ...     X67699    R70790  \\\n",
       "0  2169.7200  2773.4211  7526.3860  4607.6763  ...   99.11072  67.56125   \n",
       "1  3849.0588  2793.3875  7017.7340  4802.2524  ...  126.78929  92.23875   \n",
       "2  1325.4025  1472.2587  3296.9512  2786.5820  ...  151.87738  82.71500   \n",
       "3  1531.1425  1714.6312  3869.7850  4989.4070  ...  152.59525  41.68375   \n",
       "4  2069.2463  2948.5750  3303.3710  3109.4130  ...  126.46429  76.60375   \n",
       "\n",
       "      L11706     T90549    D17390     M33210     H18490     H40891    R77780  \\\n",
       "0  259.91250  138.89874  88.23250   39.66786   67.82875   75.67750  83.52250   \n",
       "1   96.27625  150.59000  82.23750   85.03333  152.19500  186.56750  44.47250   \n",
       "2   31.10250  193.92000  76.97250  224.62024   31.22500   42.65625  16.09250   \n",
       "3    5.92500  183.00626  74.52875   67.71072   48.33875   42.52000  49.98250   \n",
       "4  161.35000   61.70125  54.56375  223.35953   73.09875   57.59875   7.48875   \n",
       "\n",
       "     T49647  \n",
       "0  28.70125  \n",
       "1  16.77375  \n",
       "2  15.15625  \n",
       "3  16.08500  \n",
       "4  31.81250  \n",
       "\n",
       "[5 rows x 2000 columns]"
      ]
     },
     "execution_count": 7,
     "metadata": {},
     "output_type": "execute_result"
    }
   ],
   "source": [
    "df_features.head()"
   ]
  },
  {
   "cell_type": "code",
   "execution_count": 8,
   "metadata": {},
   "outputs": [
    {
     "data": {
      "text/plain": [
       "array([[0.5149574 , 0.46582878, 0.40812511, ..., 0.18135395, 0.40589934,\n",
       "        0.1891166 ],\n",
       "       [0.55930626, 0.60852684, 0.49265239, ..., 0.46934906, 0.20185236,\n",
       "        0.09055037],\n",
       "       [0.14743615, 0.63713195, 0.55897739, ..., 0.09559365, 0.05355907,\n",
       "        0.0771837 ],\n",
       "       ...,\n",
       "       [0.3715513 , 0.23818996, 0.17583425, ..., 0.33158138, 0.45593787,\n",
       "        0.01335633],\n",
       "       [0.33328462, 0.29899371, 0.24866094, ..., 0.29179341, 0.1402725 ,\n",
       "        0.14419263],\n",
       "       [0.4287493 , 0.25892362, 0.19883967, ..., 0.18534702, 0.23001659,\n",
       "        0.27943972]])"
      ]
     },
     "execution_count": 8,
     "metadata": {},
     "output_type": "execute_result"
    }
   ],
   "source": [
    "# Normalizing features values from 0-1 as mentioned in paper\n",
    "scaler = preprocessing.MinMaxScaler()\n",
    "scaler.fit(df_features)\n",
    "df_features = scaler.transform(df_features)\n",
    "df_features"
   ]
  },
  {
   "cell_type": "markdown",
   "metadata": {},
   "source": [
    "# Applying NCFS algorithm for feature selection"
   ]
  },
  {
   "cell_type": "code",
   "execution_count": 9,
   "metadata": {},
   "outputs": [
    {
     "name": "stdout",
     "output_type": "stream",
     "text": [
      "NCFS(alpha=0.1, eta=0.2, kernel='exponential', metric='cityblock', reg=1,\n",
      "     sigma=1, solver='ncfs')\n",
      "[0.01117458 0.01475072 0.02278753 ... 0.01820731 0.00842601 0.00905899]\n"
     ]
    }
   ],
   "source": [
    "feature_select = NCFS.NCFS(eta=0.2)\n",
    "feature_select.fit(df_features, df_labels.values)\n",
    "print(feature_select)\n",
    "print(feature_select.coef_)"
   ]
  },
  {
   "cell_type": "markdown",
   "metadata": {},
   "source": [
    "# Plotting the weight vector against corresponding features"
   ]
  },
  {
   "cell_type": "code",
   "execution_count": 10,
   "metadata": {},
   "outputs": [
    {
     "data": {
      "image/png": "[encoded data removed]",
      "text/plain": [
       "<Figure size 720x576 with 1 Axes>"
      ]
     },
     "metadata": {
      "needs_background": "light"
     },
     "output_type": "display_data"
    }
   ],
   "source": [
    "plt.figure(figsize=(10,8))\n",
    "plt.xlim(0,df_features.shape[1]+1)  # set up the plot limits\n",
    "plt.stem(np.arange(1,df_features.shape[1]+1),(feature_select.coef_))\n",
    "plt.xlabel('Features')\n",
    "plt.ylabel('Corresponding Weighting Factors')\n",
    "plt.show()"
   ]
  },
  {
   "cell_type": "code",
   "execution_count": 11,
   "metadata": {},
   "outputs": [],
   "source": [
    "# Sort the weight vector in ascending order\n",
    "w_sorted = np.sort(feature_select.coef_)\n",
    "# Sort the weight vector in descending order\n",
    "w_sorted = w_sorted[::-1]  # reverse w_sorted (first element of array becomes last)\n",
    "# Sort the indices of weight vector in ascending order\n",
    "w_sortedindex = np.argsort(feature_select.coef_)\n",
    "# Sort the indices of weight vector in descending order\n",
    "w_sortedindex = w_sortedindex[::-1] # reverse w_sortedindex (first element of array becomes last)"
   ]
  },
  {
   "cell_type": "markdown",
   "metadata": {},
   "source": [
    "# Classification Algorithm (KNN):"
   ]
  },
  {
   "cell_type": "code",
   "execution_count": 12,
   "metadata": {},
   "outputs": [],
   "source": [
    "from sklearn.neighbors import KNeighborsClassifier\n",
    "from sklearn.model_selection import LeaveOneOut\n",
    "from sklearn.model_selection import cross_val_score\n",
    "from sklearn.model_selection import validation_curve, learning_curve"
   ]
  },
  {
   "cell_type": "code",
   "execution_count": 13,
   "metadata": {},
   "outputs": [],
   "source": [
    "# DER = Diagnosis Error Rate (Classification error rate)\n",
    "\n",
    "# To store DER for first 50 top-ranked features:\n",
    "DER = np.empty(50)\n",
    "\n",
    "# Calculate loop for 1 to 50 top-ranked features:\n",
    "for i in range(1,51):\n",
    "    selected_wt = w_sorted[0:i] # selected weights from 0 to i-1\n",
    "    selected_indices = w_sortedindex[0:i] # selected weight vector indices\n",
    "    df_selected = pd.DataFrame(data = df_features[:,selected_indices],columns = selected_indices) # dataframe of selected features\n",
    "          \n",
    "    loo = LeaveOneOut() # for leaveOneOut cross validation\n",
    "    model = KNeighborsClassifier(n_neighbors = 3,metric='manhattan',p=1) # KNN model object\n",
    "    scores = cross_val_score(model , X = df_selected , y = df_labels.values.ravel() , cv = loo, scoring='accuracy') # Cross validation scores\n",
    "    DER[i-1] = 100 -scores.mean()*100 # DER for selected top-ranked features from 0 to i-1\n",
    "    \n",
    "    "
   ]
  },
  {
   "cell_type": "code",
   "execution_count": 14,
   "metadata": {},
   "outputs": [
    {
     "name": "stdout",
     "output_type": "stream",
     "text": [
      "[24.19354839 29.03225806 17.74193548 14.51612903 17.74193548 17.74193548\n",
      " 17.74193548 19.35483871 14.51612903 17.74193548 17.74193548 19.35483871\n",
      " 16.12903226 14.51612903 12.90322581 14.51612903 16.12903226 17.74193548\n",
      " 16.12903226 16.12903226 12.90322581 12.90322581 14.51612903 16.12903226\n",
      " 16.12903226 16.12903226 14.51612903 14.51612903 12.90322581 12.90322581\n",
      " 12.90322581 12.90322581 12.90322581 12.90322581 12.90322581 12.90322581\n",
      " 12.90322581 12.90322581 12.90322581 12.90322581 12.90322581 12.90322581\n",
      " 12.90322581 12.90322581 12.90322581 12.90322581 12.90322581 12.90322581\n",
      " 12.90322581 12.90322581]\n"
     ]
    }
   ],
   "source": [
    "# Display 50 values of DER \n",
    "print(DER)"
   ]
  },
  {
   "cell_type": "code",
   "execution_count": 15,
   "metadata": {},
   "outputs": [
    {
     "name": "stdout",
     "output_type": "stream",
     "text": [
      "Number of optimal features:15\n",
      "Min Diagnosis Error Rate:12.9\n"
     ]
    }
   ],
   "source": [
    "# Display optimal features with min classification error\n",
    "print(\"Number of optimal features:{}\\nMin Diagnosis Error Rate:{:.1f}\".format(DER.argmin()+1,DER.min()))"
   ]
  },
  {
   "cell_type": "code",
   "execution_count": 16,
   "metadata": {},
   "outputs": [
    {
     "name": "stdout",
     "output_type": "stream",
     "text": [
      "DER for KNN when all genes (features) were used:  20.967741935483872\n"
     ]
    }
   ],
   "source": [
    "# DER on all genes (without feature selection)\n",
    "\n",
    "df_features1 = pd.DataFrame(data = df_features) # data frame of all the features \n",
    "loo = LeaveOneOut()\n",
    "model = KNeighborsClassifier(n_neighbors = 3, metric ='manhattan',p=1)\n",
    "scores = cross_val_score(model , X = df_features1 , y = df_labels.values.ravel() , cv = loo,scoring='accuracy') \n",
    "DER_allgenes = 100-scores.mean()*100.0 # DER for KNN when all features were used \n",
    "print('DER for KNN when all genes (features) were used: ',DER_allgenes)\n"
   ]
  },
  {
   "cell_type": "markdown",
   "metadata": {},
   "source": [
    "# Plot of DER with top 50 ranked features vs DER with all the features"
   ]
  },
  {
   "cell_type": "code",
   "execution_count": 17,
   "metadata": {},
   "outputs": [
    {
     "data": {
      "text/plain": [
       "<matplotlib.legend.Legend at 0x1a8e1921278>"
      ]
     },
     "execution_count": 17,
     "metadata": {},
     "output_type": "execute_result"
    },
    {
     "data": {
      "image/png": "[encoded data removed]",
      "text/plain": [
       "<Figure size 720x576 with 1 Axes>"
      ]
     },
     "metadata": {
      "needs_background": "light"
     },
     "output_type": "display_data"
    }
   ],
   "source": [
    "x = np.array(range(1,51))\n",
    "plt.figure(figsize=(10,8))\n",
    "plt.title('Colon_Cancer')\n",
    "plt.xlabel('Number of Features')\n",
    "plt.ylabel('Classification Error (%)')\n",
    "plt.plot(x, DER, color='red', marker='*',linewidth=2, markersize=12)\n",
    "plt.plot(x,np.full((50,),DER_allgenes), color='green')\n",
    "plt.gca().legend(('NCFS','All Genes'))"
   ]
  },
  {
   "cell_type": "code",
   "execution_count": null,
   "metadata": {},
   "outputs": [],
   "source": []
  }
 ],
 "metadata": {
  "kernelspec": {
   "display_name": "Python 3",
   "language": "python",
   "name": "python3"
  },
  "language_info": {
   "codemirror_mode": {
    "name": "ipython",
    "version": 3
   },
   "file_extension": ".py",
   "mimetype": "text/x-python",
   "name": "python",
   "nbconvert_exporter": "python",
   "pygments_lexer": "ipython3",
   "version": "3.7.3"
  }
 },
 "nbformat": 4,
 "nbformat_minor": 2
}
